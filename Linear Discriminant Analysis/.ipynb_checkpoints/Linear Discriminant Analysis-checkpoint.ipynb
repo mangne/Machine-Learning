{
 "cells": [
  {
   "cell_type": "markdown",
   "metadata": {},
   "source": [
    "# What and Why LDA\n",
    "\n",
    "LDA is a **supervised classification technique** that is considered a part of crafting competitive machine learning models. This category of dimensionality reduction is used in areas like image recognition and predictive analysis in marketing.\n",
    "\n",
    "\n",
    "**Why LDA Over Logistic Regression**\n",
    "**Two-class problems** – Logistic Regression is traditionally used for two-class and binary classification problems. Though it can be extrapolated and used in multi-class classification, this is rarely performed. On the other hand, Linear Discriminant Analysis is considered a better choice whenever multi-class classification is required and in the case of binary classifications, both logistic regression and LDA are applied.\n",
    "\n",
    "**Unstable with Well-Separated classes** – Logistic Regression can lack stability when the classes are well-separated. For example, where classes are well separated, the LR coefficients tend to go to infinity.  This is where LDA comes in; since it does not suffer from this problem.\n",
    "\n",
    "**Unstable with few examples** – If there are few examples(n is small) from which the parameters are to be estimated, logistic regression becomes unstable. However, Linear Discriminant Analysis is a better option because it tends to be stable even in such cases.\n",
    "\n",
    "\n",
    "***Also, LDA gives nice low-dimension view of the data***\n",
    "\n",
    "LDA is a generative classification method; in which it implements the Bayes' Rule for calculating the posterior probabilities of the classes using prior(π) and density(mass for qualitative) functions (f)\n",
    "\n",
    "It is called Linear because the discriminant function is linear in x(variables). This is achieved by assuming - normal(gaussian) distribution of variables and same covariance in each class. (other assumptions include that features are statistically independent)\n",
    "\n",
    "Recall the Bayes' Rule:\n",
    "\n",
    "Pr(Y=k|X=x) = $π_k$.$f_k(x)$/$\\sum_{l=1}^{l=K}$$π_l$.$f_l(x)$\n",
    "\n",
    "we plug the gaussian densities and estimated values of prior, mean and variances to calculate the discriminant function; which comes out in the form of\n",
    "\n",
    "$\\delta(x)$ = x. ($µ_k$/$\\sigma^2$) - $µ_k^2$/2$\\sigma^2$ + log($π_k$)\n"
   ]
  },
  {
   "cell_type": "markdown",
   "metadata": {},
   "source": [
    "# How does it works\n",
    "\n",
    "The objective of LDA is to maximize the separation between two classes.And LAD achieves this by maximizing the ratio of between-class variance and within-class variance($S_b$.$S_w^-1$). LDA creates new discriminant axes hence remedying the 'curse of dimensionality' by reducing the original dimensions to a far less no of transformed dimension in which data is well represented by retaining most of the variance.\n",
    "\n",
    "The key-steps in the algorithm are:\n",
    "\n",
    "1. Standardize the d-dimensional dataset.\n",
    "2. For each class,compute the d-dimensional mean vector \n",
    "3. Construct the between class ($S_b$) scatter matrix and within class ($S_w$) scatter matrix.\n",
    "4. Compute the eigen vector and corresponding eigen values of the matrix ($S_b$.$S_w^-1$)\n",
    "5. Choose k eigen vectors that correspond to k-largest eigen values to construct dxk dimensional transformation matrix(W) - new feature subspace.\n",
    "6. Project the sample space (nxd) onto the new feature subspace (W) using X.W; (nxk dimension)\n"
   ]
  },
  {
   "cell_type": "markdown",
   "metadata": {},
   "source": [
    "# Brief Mathematical Background\n",
    "\n",
    "Bayesian Rule states the posterior probability: \n",
    "\n",
    "\n",
    "Pr(Y=k|X=x) = $π_k$.$f_k(x)$/$\\sum_{l=1}^{K}$$π_l$.$f_l(x)$\n",
    "\n",
    "Where,\n",
    "1. π is prior probability of class k (P(Y=k))\n",
    "2. $f_k(x)$ is density function in class k\n",
    "\n",
    "For LDA, we choose $f_k(x)$ as Gaussian distribution and same covariance across all classes\n",
    "\n",
    "*by choosing different $f_k(x)$; we can achieve different kinds of classifiers like: QDA, Naïve Bayes' Classifier*\n",
    "\n",
    "Note: if we forego same covariance matrix condition; we get a quadratic function of x and this classifier is known as **QDA**\n",
    "\n",
    "But this becomes tedious in case of large number of feature (covariance matrix is $p^2$ degree); so if we assume, features are conditionally independent in each class; we get a diagonal covariance matrix (p degree) since we can write the density function as a product of densities:\n",
    "$f_k(x)$ = $\\prod_{j=1}^{p}$$f_{j_{k}}$($x_j$)\n",
    "\n",
    "This is called **Naïve Bayes' Classifier**\n",
    "\n"
   ]
  },
  {
   "cell_type": "markdown",
   "metadata": {},
   "source": [
    "# Suggestions\n",
    "Some suggestions you should keep in mind while preparing the data to build the LDA model:\n",
    "\n",
    "**LDA is mainly used in classification problems where you have a categorical output variable. It allows both binary classification and multi-class classification.**\n",
    "\n",
    "The standard LDA model makes use of the Gaussian Distribution of the input variables. **You should check the univariate distributions of each attribute and transform them into a more Gaussian-looking distribution. For example, for the exponential distribution, use log and root function and for skewed distributions use BoxCox.**\n",
    "\n",
    "\n",
    "**Outliers can skew the primitive statistics used to separate classes in LDA, so it is preferable to remove them.**\n",
    "\n",
    "**Since LDA assumes that each input variable has the same variance, it is always better to standardize your data before using an LDA model. Keep the mean to be 0 and the standard deviation to be 1.**"
   ]
  },
  {
   "cell_type": "code",
   "execution_count": 27,
   "metadata": {},
   "outputs": [],
   "source": [
    "import pandas as pd\n",
    "import numpy as np\n",
    "\n",
    "df_wine = pd.read_csv('https://archive.ics.uci.edu/ml/machine-learning-databases/wine/wine.data', header = None)"
   ]
  },
  {
   "cell_type": "code",
   "execution_count": 51,
   "metadata": {},
   "outputs": [],
   "source": [
    "y = df_wine.iloc[:, 0]\n",
    "X = df_wine.iloc[:, 1:]"
   ]
  },
  {
   "cell_type": "code",
   "execution_count": 24,
   "metadata": {},
   "outputs": [],
   "source": [
    "from sklearn.model_selection import train_test_split\n",
    "from sklearn.preprocessing import StandardScaler"
   ]
  },
  {
   "cell_type": "code",
   "execution_count": 52,
   "metadata": {},
   "outputs": [],
   "source": [
    "X_train , X_test, y_train, y_test = train_test_split(X, y, test_size = 0.3, random_state = 0)\n",
    "sc = StandardScaler()\n",
    "\n",
    "X_train_std = sc.fit_transform(X_train)\n",
    "X_test_std = sc.fit_transform(X_test)"
   ]
  },
  {
   "cell_type": "code",
   "execution_count": 33,
   "metadata": {},
   "outputs": [
    {
     "name": "stdout",
     "output_type": "stream",
     "text": [
      "MV 1: [ 0.9259 -0.3091  0.2592 -0.7989  0.3039  0.9608  1.0515 -0.6306  0.5354\n",
      "  0.2209  0.4855  0.798   1.2017]\n",
      "\n",
      "MV 2: [-0.8727 -0.3854 -0.4437  0.2481 -0.2409 -0.1059  0.0187 -0.0164  0.1095\n",
      " -0.8796  0.4392  0.2776 -0.7016]\n",
      "\n",
      "MV 3: [ 0.1637  0.8929  0.3249  0.5658 -0.01   -0.9499 -1.228   0.7436 -0.7652\n",
      "  0.979  -1.1698 -1.3007 -0.3912]\n",
      "\n"
     ]
    }
   ],
   "source": [
    "np.set_printoptions(precision = 4)\n",
    "mean_vecs = []\n",
    "#class wise mean vectors of features\n",
    "\n",
    "for label in range(1,4):\n",
    "    mean_vecs.append(np.mean(X_train_std[y_train==label], axis = 0))\n",
    "    print('MV %s: %s\\n' %(label, mean_vecs[label-1]))"
   ]
  },
  {
   "cell_type": "markdown",
   "metadata": {},
   "source": [
    "**Using the mean vectors, we can now compute the within-class scatter matrix $S_w$**\n",
    "\n",
    "$S_w$ = $\\sum_{i=1}^{c}$$S_i$\n",
    "\n",
    "This is calculated by summing up the individual scatter matrics $s_i$ of each individual class i:\n",
    "\n",
    "$S_i$ = $\\sum_{x\\in D_i}^{c}$ $(x-m_i)$ . $(x-m_i)^T$"
   ]
  },
  {
   "cell_type": "code",
   "execution_count": 36,
   "metadata": {},
   "outputs": [],
   "source": [
    "d = 13\n",
    "\n",
    "#check how to find number of columns in X\n",
    "\n",
    "S_w = np.zeros((d,d))\n",
    "\n",
    "for label, mv in zip(range(1,4), mean_vecs):\n",
    "    class_scatter = np.zeros((d,d))\n",
    "    for row in X_train_std[y_train == label]:\n",
    "        row, mv = row.reshape(d,1), mv.reshape(d,1)\n",
    "        class_scatter += (row-mv).dot((row-mv).T)\n",
    "        \n",
    "    S_w += class_scatter\n",
    "\n",
    "        \n"
   ]
  },
  {
   "cell_type": "code",
   "execution_count": 39,
   "metadata": {},
   "outputs": [
    {
     "data": {
      "text/plain": [
       "array([51.451 ,  0.6703, -2.0626, -3.4724,  4.8439,  9.0902,  5.6869,\n",
       "       -2.4125,  1.1081, 18.6567,  1.6244, -1.1247,  5.5666])"
      ]
     },
     "execution_count": 39,
     "metadata": {},
     "output_type": "execute_result"
    }
   ],
   "source": [
    "S_w[0]"
   ]
  },
  {
   "cell_type": "markdown",
   "metadata": {},
   "source": [
    "However, a big assumption in this calculation is that class labels are uniformly distributed. But we know it is not the case"
   ]
  },
  {
   "cell_type": "code",
   "execution_count": 43,
   "metadata": {},
   "outputs": [
    {
     "data": {
      "text/plain": [
       "array([40, 49, 35])"
      ]
     },
     "execution_count": 43,
     "metadata": {},
     "output_type": "execute_result"
    }
   ],
   "source": [
    "np.bincount(y_train)[1:]\n"
   ]
  },
  {
   "cell_type": "markdown",
   "metadata": {},
   "source": [
    "To remedy this, we need to scale individual $S_i$. This is same as computing the covariance matrix\n",
    "\n",
    "$∑_i$ = 1/$N_i$ . $\\sum_{x\\in D_i}^{c}$ $(x-m_i)$.$(x-m_i)^T$\n",
    "\n",
    "Here, $∑_i$ is the covariance matrix"
   ]
  },
  {
   "cell_type": "code",
   "execution_count": 44,
   "metadata": {},
   "outputs": [],
   "source": [
    "d = 13\n",
    "\n",
    "#check how to find number of columns in X\n",
    "\n",
    "S_w = np.zeros((d,d))\n",
    "\n",
    "for label, mv in zip(range(1,4), mean_vecs):\n",
    "    class_scatter = np.cov(X_train_std[y_train == label].T)\n",
    "    S_w += class_scatter\n"
   ]
  },
  {
   "cell_type": "code",
   "execution_count": 45,
   "metadata": {},
   "outputs": [
    {
     "data": {
      "text/plain": [
       "array([ 1.2458,  0.0514, -0.0329, -0.0895,  0.1155,  0.2454,  0.1501,\n",
       "       -0.0557,  0.0991,  0.4879,  0.0238, -0.007 ,  0.1342])"
      ]
     },
     "execution_count": 45,
     "metadata": {},
     "output_type": "execute_result"
    }
   ],
   "source": [
    "S_w[0]"
   ]
  },
  {
   "cell_type": "markdown",
   "metadata": {},
   "source": [
    "**Between-class scatter matrix $S_b$**\n",
    "\n",
    "$S_b$ = $\\sum_{i=1}^{c}$$N_i$.$(m_i - m)$ $(m_i-m)^T$\n",
    "\n",
    "Here, m is the overall mean that is computed, including samples from all the classes"
   ]
  },
  {
   "cell_type": "code",
   "execution_count": 56,
   "metadata": {},
   "outputs": [
    {
     "name": "stdout",
     "output_type": "stream",
     "text": [
      "0 [ 0.9259 -0.3091  0.2592 -0.7989  0.3039  0.9608  1.0515 -0.6306  0.5354\n",
      "  0.2209  0.4855  0.798   1.2017]\n",
      "1 [-0.8727 -0.3854 -0.4437  0.2481 -0.2409 -0.1059  0.0187 -0.0164  0.1095\n",
      " -0.8796  0.4392  0.2776 -0.7016]\n",
      "2 [ 0.1637  0.8929  0.3249  0.5658 -0.01   -0.9499 -1.228   0.7436 -0.7652\n",
      "  0.979  -1.1698 -1.3007 -0.3912]\n"
     ]
    }
   ],
   "source": [
    "for i, mean_vec in enumerate(mean_vecs):\n",
    "    print(i, mean_vec)"
   ]
  },
  {
   "cell_type": "code",
   "execution_count": 59,
   "metadata": {},
   "outputs": [
    {
     "data": {
      "text/plain": [
       "40"
      ]
     },
     "execution_count": 59,
     "metadata": {},
     "output_type": "execute_result"
    }
   ],
   "source": [
    "X_train[y_train==(i+1)].shape[0]"
   ]
  },
  {
   "cell_type": "code",
   "execution_count": 65,
   "metadata": {},
   "outputs": [],
   "source": [
    "m = np.mean(X_train_std, axis = 0)\n",
    "\n",
    "d =13\n",
    "S_b = np.zeros((d,d))\n",
    "\n",
    "for i, mean_vec in enumerate(mean_vecs):\n",
    "\n",
    "    n = X_train_std[y_train==(i+1)].shape[0]\n",
    "    mean_vec = mean_vec.reshape(d,1)\n",
    "    mean_overall = m.reshape(d,1)\n",
    "    S_b += n*(mean_vec - mean_overall).dot((mean_vec-mean_overall).T)"
   ]
  },
  {
   "cell_type": "code",
   "execution_count": 66,
   "metadata": {},
   "outputs": [
    {
     "data": {
      "text/plain": [
       "array([ 10.1509,  39.0069,  15.3272,  22.8751,   0.4806, -39.5667,\n",
       "       -51.7325,  31.3465, -32.6026,  44.4773, -50.8565, -55.7604,\n",
       "       -13.8346])"
      ]
     },
     "execution_count": 66,
     "metadata": {},
     "output_type": "execute_result"
    }
   ],
   "source": [
    "S_b[1]"
   ]
  },
  {
   "cell_type": "markdown",
   "metadata": {},
   "source": [
    "**computing $S_b. S_w^-1$**"
   ]
  },
  {
   "cell_type": "code",
   "execution_count": 106,
   "metadata": {},
   "outputs": [],
   "source": [
    "eigen_vals, eigen_vecs = np.linalg.eig(np.linalg.inv(S_w).dot(S_b))"
   ]
  },
  {
   "cell_type": "code",
   "execution_count": 107,
   "metadata": {},
   "outputs": [
    {
     "data": {
      "text/plain": [
       "array([ 5.6843e-14+0.0000e+00j,  1.5644e+02+0.0000e+00j,\n",
       "        4.5272e+02+0.0000e+00j,  5.8973e-14+0.0000e+00j,\n",
       "       -4.0438e-14+0.0000e+00j,  3.4869e-14+0.0000e+00j,\n",
       "       -1.0147e-14+2.6321e-14j, -1.0147e-14-2.6321e-14j,\n",
       "        9.2486e-15+4.0513e-15j,  9.2486e-15-4.0513e-15j,\n",
       "       -7.9359e-15+0.0000e+00j,  2.5762e-16+4.7661e-15j,\n",
       "        2.5762e-16-4.7661e-15j])"
      ]
     },
     "execution_count": 107,
     "metadata": {},
     "output_type": "execute_result"
    }
   ],
   "source": [
    "eigen_vals"
   ]
  },
  {
   "cell_type": "code",
   "execution_count": 108,
   "metadata": {},
   "outputs": [
    {
     "data": {
      "text/plain": [
       "array([-0.3797+0.j, -0.2206+0.j, -0.3816+0.j,  0.3018+0.j,  0.0141+0.j,\n",
       "        0.0234+0.j,  0.1869+0.j,  0.0696+0.j,  0.1796+0.j, -0.284 +0.j,\n",
       "        0.2349+0.j,  0.073 +0.j, -0.5971+0.j])"
      ]
     },
     "execution_count": 108,
     "metadata": {},
     "output_type": "execute_result"
    }
   ],
   "source": [
    "eigen_vecs[:, 1]"
   ]
  },
  {
   "cell_type": "code",
   "execution_count": 109,
   "metadata": {},
   "outputs": [],
   "source": [
    "eigen_pairs = [(np.abs(eigen_vals[i]), eigen_vecs[:, i]) for i in range(len(eigen_vals))]"
   ]
  },
  {
   "cell_type": "code",
   "execution_count": 110,
   "metadata": {},
   "outputs": [
    {
     "data": {
      "text/plain": [
       "[(5.684341886080802e-14,\n",
       "  array([ 0.7783+0.j, -0.1244+0.j, -0.2383+0.j,  0.232 +0.j,  0.0077+0.j,\n",
       "          0.075 +0.j, -0.0885+0.j,  0.0212+0.j,  0.1323+0.j, -0.1247+0.j,\n",
       "          0.1259+0.j, -0.055 +0.j, -0.4498+0.j])),\n",
       " (156.43636121952343,\n",
       "  array([-0.3797+0.j, -0.2206+0.j, -0.3816+0.j,  0.3018+0.j,  0.0141+0.j,\n",
       "          0.0234+0.j,  0.1869+0.j,  0.0696+0.j,  0.1796+0.j, -0.284 +0.j,\n",
       "          0.2349+0.j,  0.073 +0.j, -0.5971+0.j])),\n",
       " (452.7215812449746,\n",
       "  array([-0.0662+0.j,  0.0386+0.j, -0.0217+0.j,  0.184 +0.j, -0.0034+0.j,\n",
       "          0.2326+0.j, -0.7747+0.j, -0.0811+0.j,  0.0875+0.j,  0.185 +0.j,\n",
       "         -0.066 +0.j, -0.3805+0.j, -0.3285+0.j])),\n",
       " (5.897276380582688e-14,\n",
       "  array([ 0.7498+0.j, -0.1433+0.j, -0.3341+0.j,  0.2661+0.j,  0.0181+0.j,\n",
       "          0.0591+0.j,  0.0261+0.j,  0.0523+0.j,  0.1204+0.j, -0.0579+0.j,\n",
       "          0.0688+0.j, -0.0508+0.j, -0.4499+0.j])),\n",
       " (4.043809485299187e-14,\n",
       "  array([-0.0943+0.j, -0.4792+0.j,  0.2247+0.j,  0.1469+0.j, -0.0309+0.j,\n",
       "          0.5269+0.j, -0.1921+0.j, -0.2288+0.j,  0.0077+0.j,  0.4172+0.j,\n",
       "          0.0169+0.j, -0.155 +0.j, -0.3509+0.j])),\n",
       " (3.4868963940837216e-14,\n",
       "  array([-0.4634+0.j,  0.0595+0.j,  0.6891+0.j, -0.3797+0.j, -0.0386+0.j,\n",
       "         -0.138 +0.j, -0.071 +0.j, -0.1005+0.j, -0.0358+0.j, -0.2026+0.j,\n",
       "          0.0651+0.j, -0.1602+0.j,  0.234 +0.j])),\n",
       " (2.8209648405562196e-14,\n",
       "  array([-0.2364-0.0104j,  0.0198+0.151j ,  0.5795+0.j    , -0.0478-0.0452j,\n",
       "         -0.0458-0.0245j,  0.178 -0.4408j,  0.0957-0.0631j, -0.0992-0.0034j,\n",
       "         -0.3166+0.0446j, -0.1012+0.0918j, -0.1049+0.0653j,  0.0572+0.4205j,\n",
       "         -0.072 +0.0866j])),\n",
       " (2.8209648405562196e-14,\n",
       "  array([-0.2364+0.0104j,  0.0198-0.151j ,  0.5795-0.j    , -0.0478+0.0452j,\n",
       "         -0.0458+0.0245j,  0.178 +0.4408j,  0.0957+0.0631j, -0.0992+0.0034j,\n",
       "         -0.3166-0.0446j, -0.1012-0.0918j, -0.1049-0.0653j,  0.0572-0.4205j,\n",
       "         -0.072 -0.0866j])),\n",
       " (1.0097036051835397e-14,\n",
       "  array([-0.4837-0.0464j,  0.0847+0.1311j,  0.7668+0.j    , -0.1071+0.0528j,\n",
       "          0.0883-0.0445j, -0.0205-0.0021j,  0.1816+0.0467j,  0.1261-0.0776j,\n",
       "          0.071 +0.0382j, -0.1589+0.0382j, -0.0987-0.0379j, -0.0557+0.0659j,\n",
       "          0.1335-0.0165j])),\n",
       " (1.0097036051835397e-14,\n",
       "  array([-0.4837+0.0464j,  0.0847-0.1311j,  0.7668-0.j    , -0.1071-0.0528j,\n",
       "          0.0883+0.0445j, -0.0205+0.0021j,  0.1816-0.0467j,  0.1261+0.0776j,\n",
       "          0.071 -0.0382j, -0.1589-0.0382j, -0.0987+0.0379j, -0.0557-0.0659j,\n",
       "          0.1335+0.0165j])),\n",
       " (7.935908419754844e-15,\n",
       "  array([-0.1886+0.j,  0.5055+0.j, -0.3265+0.j, -0.479 +0.j,  0.1099+0.j,\n",
       "          0.1107+0.j, -0.0374+0.j, -0.1358+0.j, -0.3234+0.j,  0.2289+0.j,\n",
       "          0.0217+0.j,  0.3281+0.j, -0.2522+0.j])),\n",
       " (4.773059020985329e-15,\n",
       "  array([-0.4329+0.1073j, -0.1253+0.0312j,  0.5727+0.j    , -0.0245+0.1867j,\n",
       "          0.1992-0.2452j,  0.1517+0.1698j,  0.0454+0.0025j,  0.0775-0.1287j,\n",
       "         -0.0513+0.0178j, -0.2119+0.0065j, -0.2572-0.2194j, -0.08  +0.1426j,\n",
       "          0.2095-0.1091j])),\n",
       " (4.773059020985329e-15,\n",
       "  array([-0.4329-0.1073j, -0.1253-0.0312j,  0.5727-0.j    , -0.0245-0.1867j,\n",
       "          0.1992+0.2452j,  0.1517-0.1698j,  0.0454-0.0025j,  0.0775+0.1287j,\n",
       "         -0.0513-0.0178j, -0.2119-0.0065j, -0.2572+0.2194j, -0.08  -0.1426j,\n",
       "          0.2095+0.1091j]))]"
      ]
     },
     "execution_count": 110,
     "metadata": {},
     "output_type": "execute_result"
    }
   ],
   "source": [
    "eigen_pairs"
   ]
  },
  {
   "cell_type": "code",
   "execution_count": 111,
   "metadata": {},
   "outputs": [],
   "source": [
    "eigen_pairs = sorted(eigen_pairs, key=lambda k: k[0], reverse = True)"
   ]
  },
  {
   "cell_type": "code",
   "execution_count": 112,
   "metadata": {},
   "outputs": [
    {
     "data": {
      "text/plain": [
       "[(452.7215812449746,\n",
       "  array([-0.0662+0.j,  0.0386+0.j, -0.0217+0.j,  0.184 +0.j, -0.0034+0.j,\n",
       "          0.2326+0.j, -0.7747+0.j, -0.0811+0.j,  0.0875+0.j,  0.185 +0.j,\n",
       "         -0.066 +0.j, -0.3805+0.j, -0.3285+0.j])),\n",
       " (156.43636121952343,\n",
       "  array([-0.3797+0.j, -0.2206+0.j, -0.3816+0.j,  0.3018+0.j,  0.0141+0.j,\n",
       "          0.0234+0.j,  0.1869+0.j,  0.0696+0.j,  0.1796+0.j, -0.284 +0.j,\n",
       "          0.2349+0.j,  0.073 +0.j, -0.5971+0.j])),\n",
       " (5.897276380582688e-14,\n",
       "  array([ 0.7498+0.j, -0.1433+0.j, -0.3341+0.j,  0.2661+0.j,  0.0181+0.j,\n",
       "          0.0591+0.j,  0.0261+0.j,  0.0523+0.j,  0.1204+0.j, -0.0579+0.j,\n",
       "          0.0688+0.j, -0.0508+0.j, -0.4499+0.j])),\n",
       " (5.684341886080802e-14,\n",
       "  array([ 0.7783+0.j, -0.1244+0.j, -0.2383+0.j,  0.232 +0.j,  0.0077+0.j,\n",
       "          0.075 +0.j, -0.0885+0.j,  0.0212+0.j,  0.1323+0.j, -0.1247+0.j,\n",
       "          0.1259+0.j, -0.055 +0.j, -0.4498+0.j])),\n",
       " (4.043809485299187e-14,\n",
       "  array([-0.0943+0.j, -0.4792+0.j,  0.2247+0.j,  0.1469+0.j, -0.0309+0.j,\n",
       "          0.5269+0.j, -0.1921+0.j, -0.2288+0.j,  0.0077+0.j,  0.4172+0.j,\n",
       "          0.0169+0.j, -0.155 +0.j, -0.3509+0.j])),\n",
       " (3.4868963940837216e-14,\n",
       "  array([-0.4634+0.j,  0.0595+0.j,  0.6891+0.j, -0.3797+0.j, -0.0386+0.j,\n",
       "         -0.138 +0.j, -0.071 +0.j, -0.1005+0.j, -0.0358+0.j, -0.2026+0.j,\n",
       "          0.0651+0.j, -0.1602+0.j,  0.234 +0.j])),\n",
       " (2.8209648405562196e-14,\n",
       "  array([-0.2364-0.0104j,  0.0198+0.151j ,  0.5795+0.j    , -0.0478-0.0452j,\n",
       "         -0.0458-0.0245j,  0.178 -0.4408j,  0.0957-0.0631j, -0.0992-0.0034j,\n",
       "         -0.3166+0.0446j, -0.1012+0.0918j, -0.1049+0.0653j,  0.0572+0.4205j,\n",
       "         -0.072 +0.0866j])),\n",
       " (2.8209648405562196e-14,\n",
       "  array([-0.2364+0.0104j,  0.0198-0.151j ,  0.5795-0.j    , -0.0478+0.0452j,\n",
       "         -0.0458+0.0245j,  0.178 +0.4408j,  0.0957+0.0631j, -0.0992+0.0034j,\n",
       "         -0.3166-0.0446j, -0.1012-0.0918j, -0.1049-0.0653j,  0.0572-0.4205j,\n",
       "         -0.072 -0.0866j])),\n",
       " (1.0097036051835397e-14,\n",
       "  array([-0.4837-0.0464j,  0.0847+0.1311j,  0.7668+0.j    , -0.1071+0.0528j,\n",
       "          0.0883-0.0445j, -0.0205-0.0021j,  0.1816+0.0467j,  0.1261-0.0776j,\n",
       "          0.071 +0.0382j, -0.1589+0.0382j, -0.0987-0.0379j, -0.0557+0.0659j,\n",
       "          0.1335-0.0165j])),\n",
       " (1.0097036051835397e-14,\n",
       "  array([-0.4837+0.0464j,  0.0847-0.1311j,  0.7668-0.j    , -0.1071-0.0528j,\n",
       "          0.0883+0.0445j, -0.0205+0.0021j,  0.1816-0.0467j,  0.1261+0.0776j,\n",
       "          0.071 -0.0382j, -0.1589-0.0382j, -0.0987+0.0379j, -0.0557-0.0659j,\n",
       "          0.1335+0.0165j])),\n",
       " (7.935908419754844e-15,\n",
       "  array([-0.1886+0.j,  0.5055+0.j, -0.3265+0.j, -0.479 +0.j,  0.1099+0.j,\n",
       "          0.1107+0.j, -0.0374+0.j, -0.1358+0.j, -0.3234+0.j,  0.2289+0.j,\n",
       "          0.0217+0.j,  0.3281+0.j, -0.2522+0.j])),\n",
       " (4.773059020985329e-15,\n",
       "  array([-0.4329+0.1073j, -0.1253+0.0312j,  0.5727+0.j    , -0.0245+0.1867j,\n",
       "          0.1992-0.2452j,  0.1517+0.1698j,  0.0454+0.0025j,  0.0775-0.1287j,\n",
       "         -0.0513+0.0178j, -0.2119+0.0065j, -0.2572-0.2194j, -0.08  +0.1426j,\n",
       "          0.2095-0.1091j])),\n",
       " (4.773059020985329e-15,\n",
       "  array([-0.4329-0.1073j, -0.1253-0.0312j,  0.5727-0.j    , -0.0245-0.1867j,\n",
       "          0.1992+0.2452j,  0.1517-0.1698j,  0.0454-0.0025j,  0.0775+0.1287j,\n",
       "         -0.0513-0.0178j, -0.2119-0.0065j, -0.2572+0.2194j, -0.08  -0.1426j,\n",
       "          0.2095+0.1091j]))]"
      ]
     },
     "execution_count": 112,
     "metadata": {},
     "output_type": "execute_result"
    }
   ],
   "source": [
    "eigen_pairs"
   ]
  },
  {
   "cell_type": "code",
   "execution_count": 74,
   "metadata": {},
   "outputs": [],
   "source": [
    "from sklearn.datasets import load_wine"
   ]
  },
  {
   "cell_type": "code",
   "execution_count": 113,
   "metadata": {},
   "outputs": [
    {
     "data": {
      "text/plain": [
       "array([-0.0662+0.j,  0.0386+0.j, -0.0217+0.j,  0.184 +0.j, -0.0034+0.j,\n",
       "        0.2326+0.j, -0.7747+0.j, -0.0811+0.j,  0.0875+0.j,  0.185 +0.j,\n",
       "       -0.066 +0.j, -0.3805+0.j, -0.3285+0.j])"
      ]
     },
     "execution_count": 113,
     "metadata": {},
     "output_type": "execute_result"
    }
   ],
   "source": [
    "eigen_pairs[0][1]"
   ]
  },
  {
   "cell_type": "code",
   "execution_count": 114,
   "metadata": {},
   "outputs": [],
   "source": [
    "W = np.hstack((eigen_pairs[0][1][:, np.newaxis].real,\n",
    "              eigen_pairs[1][1][:, np.newaxis].real))"
   ]
  },
  {
   "cell_type": "code",
   "execution_count": 115,
   "metadata": {},
   "outputs": [
    {
     "data": {
      "text/plain": [
       "array([[-0.0662, -0.3797],\n",
       "       [ 0.0386, -0.2206],\n",
       "       [-0.0217, -0.3816],\n",
       "       [ 0.184 ,  0.3018],\n",
       "       [-0.0034,  0.0141],\n",
       "       [ 0.2326,  0.0234],\n",
       "       [-0.7747,  0.1869],\n",
       "       [-0.0811,  0.0696],\n",
       "       [ 0.0875,  0.1796],\n",
       "       [ 0.185 , -0.284 ],\n",
       "       [-0.066 ,  0.2349],\n",
       "       [-0.3805,  0.073 ],\n",
       "       [-0.3285, -0.5971]])"
      ]
     },
     "execution_count": 115,
     "metadata": {},
     "output_type": "execute_result"
    }
   ],
   "source": [
    "W"
   ]
  },
  {
   "cell_type": "code",
   "execution_count": 151,
   "metadata": {},
   "outputs": [],
   "source": [
    "X_tzrain_lda = X_train_std.dot(W)"
   ]
  },
  {
   "cell_type": "code",
   "execution_count": 118,
   "metadata": {},
   "outputs": [],
   "source": [
    "import matplotlib.pyplot as plt\n",
    "%matplotlib inline "
   ]
  },
  {
   "cell_type": "code",
   "execution_count": 120,
   "metadata": {},
   "outputs": [],
   "source": [
    "colors = ['r','b', 'g']\n",
    "markers = ['s', 'x', 'v']"
   ]
  },
  {
   "cell_type": "code",
   "execution_count": 122,
   "metadata": {},
   "outputs": [
    {
     "name": "stdout",
     "output_type": "stream",
     "text": [
      "1 r s\n",
      "2 b x\n",
      "3 g v\n"
     ]
    }
   ],
   "source": [
    "for l,c,m in zip(np.unique(y_train), colors, markers):\n",
    "    print(l, c, m)"
   ]
  },
  {
   "cell_type": "code",
   "execution_count": 130,
   "metadata": {},
   "outputs": [
    {
     "data": {
      "text/plain": [
       "array([[ 1.7163, -1.8916],\n",
       "       [ 1.2841, -0.7429],\n",
       "       [ 1.2725, -0.4089],\n",
       "       [ 1.8524, -1.4223],\n",
       "       [ 1.4803, -0.0185],\n",
       "       [ 1.1625, -0.9774],\n",
       "       [ 1.937 , -0.8846],\n",
       "       [ 2.1032, -1.1442],\n",
       "       [ 1.8019, -1.5348],\n",
       "       [ 1.4805, -0.2871],\n",
       "       [ 1.8532, -1.3112],\n",
       "       [ 1.5293, -0.8615],\n",
       "       [ 1.6832, -0.7544],\n",
       "       [ 1.5291, -1.4617],\n",
       "       [ 0.9811, -0.2384],\n",
       "       [ 1.8324, -0.3832],\n",
       "       [ 2.1135, -0.296 ],\n",
       "       [ 1.772 , -1.3278],\n",
       "       [ 1.535 , -2.106 ],\n",
       "       [ 1.2039, -0.7537],\n",
       "       [ 1.451 , -0.2235],\n",
       "       [ 1.6856, -0.0465],\n",
       "       [ 1.4735, -0.4515],\n",
       "       [ 1.5491, -0.214 ],\n",
       "       [ 1.5596, -1.1252],\n",
       "       [ 1.7507, -0.8368],\n",
       "       [ 1.2892, -0.722 ],\n",
       "       [ 1.5524, -1.1014],\n",
       "       [ 1.6834, -1.4079],\n",
       "       [ 1.8365, -1.2304],\n",
       "       [ 2.0648, -1.7898],\n",
       "       [ 1.6739, -1.337 ],\n",
       "       [ 1.8072, -1.8067],\n",
       "       [ 1.0562, -0.7634],\n",
       "       [ 1.6356, -1.8797]])"
      ]
     },
     "execution_count": 130,
     "metadata": {},
     "output_type": "execute_result"
    }
   ],
   "source": [
    "X_train_lda[y_train==l]"
   ]
  },
  {
   "cell_type": "code",
   "execution_count": 157,
   "metadata": {},
   "outputs": [
    {
     "data": {
      "image/png": "[encoded data removed]",
      "text/plain": [
       "<Figure size 432x288 with 1 Axes>"
      ]
     },
     "metadata": {
      "needs_background": "light"
     },
     "output_type": "display_data"
    }
   ],
   "source": [
    "colors = ['r','b', 'g']\n",
    "markers = ['s', 'x', 'v']\n",
    "for l,c,m in zip(np.unique(y_train), colors, markers):\n",
    "    plt.scatter(X_tzrain_lda[y_train==l, 0], X_tzrain_lda[y_train==l, 1]*(-1), c = c, label=l, marker = m)\n",
    "plt.xlabel('LD1')\n",
    "plt.ylabel('LD2')\n",
    "plt.legend(loc= 'lower right')\n",
    "plt.show()"
   ]
  },
  {
   "cell_type": "markdown",
   "metadata": {},
   "source": [
    "# LDA via scikit-learn"
   ]
  },
  {
   "cell_type": "code",
   "execution_count": 134,
   "metadata": {},
   "outputs": [],
   "source": [
    "from sklearn.discriminant_analysis import LinearDiscriminantAnalysis"
   ]
  },
  {
   "cell_type": "code",
   "execution_count": 153,
   "metadata": {},
   "outputs": [],
   "source": [
    "lda = LinearDiscriminantAnalysis(n_components = 2)"
   ]
  },
  {
   "cell_type": "code",
   "execution_count": 154,
   "metadata": {},
   "outputs": [],
   "source": [
    "X_train_lda = lda.fit_transform(X_train_std, y_train)"
   ]
  },
  {
   "cell_type": "code",
   "execution_count": 170,
   "metadata": {},
   "outputs": [
    {
     "data": {
      "text/plain": [
       "array([0.7385, 0.2615])"
      ]
     },
     "execution_count": 170,
     "metadata": {},
     "output_type": "execute_result"
    }
   ],
   "source": [
    "lda.explained_variance_ratio_"
   ]
  },
  {
   "cell_type": "code",
   "execution_count": 156,
   "metadata": {},
   "outputs": [
    {
     "data": {
      "image/png": "[encoded data removed]",
      "text/plain": [
       "<Figure size 432x288 with 1 Axes>"
      ]
     },
     "metadata": {
      "needs_background": "light"
     },
     "output_type": "display_data"
    }
   ],
   "source": [
    "colors = ['r','b', 'g']\n",
    "markers = ['s', 'x', 'v']\n",
    "for l,c,m in zip(np.unique(y_train), colors, markers):\n",
    "    plt.scatter(X_train_lda[y_train==l, 0], X_train_lda[y_train==l, 1], c = c, label=l, marker = m)\n",
    "plt.xlabel('LD1')\n",
    "plt.ylabel('LD2')\n",
    "plt.legend(loc= 'lower right')\n",
    "plt.show()"
   ]
  },
  {
   "cell_type": "code",
   "execution_count": 159,
   "metadata": {},
   "outputs": [],
   "source": [
    "from matplotlib.colors import ListedColormap\n",
    "def plot_decision_regions(X, y, classifier, resolution = 0.02):\n",
    "    markers = ('s', 'x', 'o', 'v', '^')\n",
    "    colors = ('red', 'blue', 'lightgreen', 'gray', 'cyan')\n",
    "    \n",
    "    cmap = ListedColormap(colors[:len(np.unique(y))])\n",
    "    \n",
    "    \n",
    "    x1_min, x1_max = X[:, 0].min() -1, X[:, 0].max() +1\n",
    "    x2_min, x2_max = X[:, 1].min() -1, X[:, 1].max() +1\n",
    "    \n",
    "    xx1, xx2 = np.meshgrid(np.arange(x1_min, x1_max, resolution),\n",
    "                          np.arange(x2_min, x2_max, resolution))\n",
    "    z = classifier.predict(np.array([xx1.ravel(), xx2.ravel()]).T)\n",
    "    z = z.reshape(xx1.shape)\n",
    "    plt.contourf(xx1, xx2, z, alpha = 0.4, cmap = cmap)\n",
    "    plt.xlim(xx1.min(), xx1.max())\n",
    "    plt.ylim(xx2.min(), xx2.max())\n",
    "    \n",
    "    for idx, cl in enumerate(np.unique(y)):\n",
    "        plt.scatter(x = X[y==cl, 0], y = X[y==cl, 1], alpha= 0.8, c = cmap(idx), marker = markers[idx], label= cl)"
   ]
  },
  {
   "cell_type": "code",
   "execution_count": 162,
   "metadata": {},
   "outputs": [],
   "source": [
    "from sklearn.linear_model import LogisticRegression"
   ]
  },
  {
   "cell_type": "code",
   "execution_count": 164,
   "metadata": {},
   "outputs": [],
   "source": [
    "lr = LogisticRegression().fit(X_train_lda, y_train)"
   ]
  },
  {
   "cell_type": "code",
   "execution_count": 167,
   "metadata": {},
   "outputs": [
    {
     "name": "stderr",
     "output_type": "stream",
     "text": [
      "'c' argument looks like a single numeric RGB or RGBA sequence, which should be avoided as value-mapping will have precedence in case its length matches with 'x' & 'y'.  Please use a 2-D array with a single row if you really want to specify the same RGB or RGBA value for all points.\n",
      "'c' argument looks like a single numeric RGB or RGBA sequence, which should be avoided as value-mapping will have precedence in case its length matches with 'x' & 'y'.  Please use a 2-D array with a single row if you really want to specify the same RGB or RGBA value for all points.\n",
      "'c' argument looks like a single numeric RGB or RGBA sequence, which should be avoided as value-mapping will have precedence in case its length matches with 'x' & 'y'.  Please use a 2-D array with a single row if you really want to specify the same RGB or RGBA value for all points.\n"
     ]
    },
    {
     "data": {
      "image/png": "[encoded data removed]",
      "text/plain": [
       "<Figure size 432x288 with 1 Axes>"
      ]
     },
     "metadata": {
      "needs_background": "light"
     },
     "output_type": "display_data"
    }
   ],
   "source": [
    "plot_decision_regions(X_train_lda, y_train, classifier = lr)"
   ]
  },
  {
   "cell_type": "code",
   "execution_count": 168,
   "metadata": {},
   "outputs": [],
   "source": [
    "X_test_lda = lda.transform(X_test_std)"
   ]
  },
  {
   "cell_type": "code",
   "execution_count": 169,
   "metadata": {},
   "outputs": [
    {
     "name": "stderr",
     "output_type": "stream",
     "text": [
      "'c' argument looks like a single numeric RGB or RGBA sequence, which should be avoided as value-mapping will have precedence in case its length matches with 'x' & 'y'.  Please use a 2-D array with a single row if you really want to specify the same RGB or RGBA value for all points.\n",
      "'c' argument looks like a single numeric RGB or RGBA sequence, which should be avoided as value-mapping will have precedence in case its length matches with 'x' & 'y'.  Please use a 2-D array with a single row if you really want to specify the same RGB or RGBA value for all points.\n",
      "'c' argument looks like a single numeric RGB or RGBA sequence, which should be avoided as value-mapping will have precedence in case its length matches with 'x' & 'y'.  Please use a 2-D array with a single row if you really want to specify the same RGB or RGBA value for all points.\n"
     ]
    },
    {
     "data": {
      "image/png": "[encoded data removed]",
      "text/plain": [
       "<Figure size 432x288 with 1 Axes>"
      ]
     },
     "metadata": {
      "needs_background": "light"
     },
     "output_type": "display_data"
    }
   ],
   "source": [
    "plot_decision_regions(X_test_lda, y_test, classifier = lr)"
   ]
  },
  {
   "cell_type": "code",
   "execution_count": null,
   "metadata": {},
   "outputs": [],
   "source": []
  }
 ],
 "metadata": {
  "kernelspec": {
   "display_name": "Python 3",
   "language": "python",
   "name": "python3"
  },
  "language_info": {
   "codemirror_mode": {
    "name": "ipython",
    "version": 3
   },
   "file_extension": ".py",
   "mimetype": "text/x-python",
   "name": "python",
   "nbconvert_exporter": "python",
   "pygments_lexer": "ipython3",
   "version": "3.7.7"
  }
 },
 "nbformat": 4,
 "nbformat_minor": 4
}
